{
 "cells": [
  {
   "cell_type": "code",
   "execution_count": 4,
   "id": "cc09838e-9559-495c-96ff-0f64b3e150b3",
   "metadata": {},
   "outputs": [
    {
     "name": "stdin",
     "output_type": "stream",
     "text": [
      "Enter your name:  Fatimah\n",
      "Enter your age:  44\n",
      "Enter the number of items you want to buy:  1\n",
      "Enter the item name:  skirt\n",
      "Enter the item price:  250\n",
      "Enter the item quantity:  1\n"
     ]
    },
    {
     "name": "stdout",
     "output_type": "stream",
     "text": [
      "Item cost: 250.0\n",
      "Total cost: 250.0\n",
      "Total cost after discount: 200.0\n"
     ]
    },
    {
     "name": "stdin",
     "output_type": "stream",
     "text": [
      "Do you want to repeat the process (yes/no)?  no\n"
     ]
    },
    {
     "name": "stdout",
     "output_type": "stream",
     "text": [
      "Program ended.\n"
     ]
    }
   ],
   "source": [
    "while True:\n",
    "    try:\n",
    "        name = input(\"Enter your name: \")\n",
    "        age = int(input(\"Enter your age: \"))\n",
    "\n",
    "        if age >= 0 and age <= 6:\n",
    "            print(\"Kid\")\n",
    "        elif age < 0:\n",
    "            print(\"Wrong age value, you cannot enter a value of 0 or less.\")\n",
    "        else:\n",
    "            total_cost = 0\n",
    "            num_items = int(input(\"Enter the number of items you want to buy: \"))\n",
    "\n",
    "            for x in range(num_items):\n",
    "                item_name = input(\"Enter the item name: \")\n",
    "                item_price = float(input(\"Enter the item price: \"))\n",
    "                item_quantity = int(input(\"Enter the item quantity: \"))\n",
    "\n",
    "                item_cost = item_price * item_quantity\n",
    "                total_cost += item_cost\n",
    "\n",
    "                print(\"Item cost:\", item_cost)\n",
    "                print(\"Total cost:\", total_cost)\n",
    "\n",
    "            if total_cost > 200:\n",
    "                total_cost *= 0.8  # Apply 20% discount\n",
    "\n",
    "            print(\"Total cost after discount:\", total_cost)\n",
    "\n",
    "        repeat = input(\"Do you want to repeat the process (yes/no)? \")\n",
    "        if repeat.lower() != \"yes\":\n",
    "            break\n",
    "\n",
    "    except ValueError:\n",
    "        print(\"Invalid input. Please enter a valid value.\")\n",
    "\n",
    "print(\"Program ended.\")"
   ]
  },
  {
   "cell_type": "code",
   "execution_count": null,
   "id": "53344c26-2c7c-45e5-a3e2-aeccd411c6cf",
   "metadata": {},
   "outputs": [],
   "source": []
  },
  {
   "cell_type": "code",
   "execution_count": null,
   "id": "6a8c48fd-9bb2-44bd-a423-530bd77cab70",
   "metadata": {},
   "outputs": [],
   "source": []
  }
 ],
 "metadata": {
  "kernelspec": {
   "display_name": "Python 3 (ipykernel)",
   "language": "python",
   "name": "python3"
  },
  "language_info": {
   "codemirror_mode": {
    "name": "ipython",
    "version": 3
   },
   "file_extension": ".py",
   "mimetype": "text/x-python",
   "name": "python",
   "nbconvert_exporter": "python",
   "pygments_lexer": "ipython3",
   "version": "3.11.4"
  }
 },
 "nbformat": 4,
 "nbformat_minor": 5
}
